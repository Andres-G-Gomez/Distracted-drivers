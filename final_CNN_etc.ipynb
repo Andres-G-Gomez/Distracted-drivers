{
 "cells": [
  {
   "cell_type": "markdown",
   "metadata": {},
   "source": [
    "https://towardsdatascience.com/calculating-sample-size-using-vc-dimensions-a-machine-learning-way-748abbe1b1e4"
   ]
  },
  {
   "cell_type": "markdown",
   "metadata": {},
   "source": [
    "https://www.statsmodels.org/dev/generated/statsmodels.stats.proportion.proportion_confint.html"
   ]
  },
  {
   "cell_type": "code",
   "execution_count": 44,
   "metadata": {},
   "outputs": [],
   "source": [
    "import numpy as np\n",
    "import tensorflow as tf\n",
    "import pandas as pd\n",
    "from tensorflow import keras\n",
    "from tensorflow.keras.utils import to_categorical\n",
    "from tensorflow.keras.models import Sequential\n",
    "from tensorflow.keras.layers import Conv2D, MaxPooling2D, Dense, Flatten, Dropout\n",
    "from tensorflow.keras.optimizers import Adam\n",
    "from sklearn.model_selection import train_test_split, StratifiedKFold\n",
    "from sklearn.metrics import accuracy_score, confusion_matrix, f1_score\n",
    "from skimage.transform import resize\n",
    "from statsmodels.stats.proportion import proportion_confint\n",
    "\n",
    "# not enough GPU memory on personal device, so turn off GPU\n",
    "import os\n",
    "os.environ[\"CUDA_VISIBLE_DEVICES\"] = \"-1\""
   ]
  },
  {
   "cell_type": "markdown",
   "metadata": {},
   "source": [
    "### Get filenames"
   ]
  },
  {
   "cell_type": "code",
   "execution_count": 2,
   "metadata": {},
   "outputs": [],
   "source": [
    "filenames = []\n",
    "N = 150 # samples per class\n",
    "for folder_num in np.arange(0,10):\n",
    "    mydir = 'imgs/train/c'+ str(folder_num)\n",
    "    ims = 0\n",
    "    for file in os.listdir(mydir):\n",
    "        if (file.endswith(\".jpg\")) and (ims <= N):\n",
    "            filenames.append(file)\n",
    "            ims+=1"
   ]
  },
  {
   "cell_type": "markdown",
   "metadata": {},
   "source": [
    "### Load, Scale, and Split data"
   ]
  },
  {
   "cell_type": "code",
   "execution_count": 3,
   "metadata": {},
   "outputs": [],
   "source": [
    "# Loading Data\n",
    "X = np.load('data_small.npy')\n",
    "Y = np.load('labels_small.npy')"
   ]
  },
  {
   "cell_type": "code",
   "execution_count": 4,
   "metadata": {},
   "outputs": [],
   "source": [
    "X = X/255."
   ]
  },
  {
   "cell_type": "code",
   "execution_count": 5,
   "metadata": {},
   "outputs": [],
   "source": [
    "# Training and Test sets\n",
    "X_training, X_test, y_training, y_test = train_test_split(X.T, \n",
    "                                                  Y, \n",
    "                                                  shuffle=True,\n",
    "                                                  stratify=Y,\n",
    "                                                  test_size=0.15,\n",
    "                                                  random_state=42)\n",
    "\n",
    "# Training and Test sets\n",
    "X_training, X_test, train_filenames, test_filenames = train_test_split(X.T, \n",
    "                                                  np.asarray(filenames), \n",
    "                                                  shuffle=True,\n",
    "                                                  stratify=Y,\n",
    "                                                  test_size=0.15,\n",
    "                                                  random_state=42)"
   ]
  },
  {
   "cell_type": "code",
   "execution_count": 6,
   "metadata": {},
   "outputs": [],
   "source": [
    "del X, Y"
   ]
  },
  {
   "cell_type": "markdown",
   "metadata": {},
   "source": [
    "### Resize images, create tf tensors"
   ]
  },
  {
   "cell_type": "code",
   "execution_count": 14,
   "metadata": {},
   "outputs": [],
   "source": [
    "# initialize array for compressed images to be stored\n",
    "data_resized = np.empty((len(y_training),(67500)))\n",
    "\n",
    "for img_idx in range(len(y_training)):\n",
    "    im = X_training[img_idx].reshape(300,300,3) \n",
    "    data_resized[img_idx] = resize(im, (150,150, 3)).flatten() \n",
    "\n",
    "# Train/Learn and validation sets\n",
    "X_train, X_val, t_train, t_val = train_test_split(data_resized, \n",
    "                                                  y_training, \n",
    "                                                  shuffle=True,\n",
    "                                                  stratify=y_training,\n",
    "                                                  test_size=0.2,\n",
    "                                                  random_state=42)\n",
    "\n",
    "# cast numpy arrays into tensorflow tensors\n",
    "X_train_rs = tf.constant(X_train.reshape((X_train.shape[0],150,150,3)),\n",
    "                        dtype=tf.float16)\n",
    "\n",
    "X_val_rs = tf.constant(X_val.reshape((X_val.shape[0],150,150,3)),\n",
    "                        dtype=tf.float16)\n",
    "\n",
    "data_resized = np.empty((len(X_test),(67500)))\n",
    "\n",
    "\n",
    "### test set ###\n",
    "for img_idx in range(len(X_test)):\n",
    "    im = X_test[img_idx].reshape(300,300,3) \n",
    "    data_resized[img_idx] = resize(im, (150,150, 3)).flatten() \n",
    "\n",
    "\n",
    "X_test_rs = tf.constant(data_resized.reshape((data_resized.shape[0],150,150,3)),\n",
    "                        dtype=tf.float16)\n"
   ]
  },
  {
   "cell_type": "code",
   "execution_count": 15,
   "metadata": {},
   "outputs": [],
   "source": [
    "del data_resized, X_training, y_training"
   ]
  },
  {
   "cell_type": "markdown",
   "metadata": {},
   "source": [
    "### Create Model"
   ]
  },
  {
   "cell_type": "code",
   "execution_count": 16,
   "metadata": {},
   "outputs": [],
   "source": [
    "# augment data - apply random rotation \n",
    "IMG_SIZE = 150 # define fixed image size\n",
    "data_augmentation = tf.keras.Sequential([\n",
    "    tf.keras.layers.Resizing(IMG_SIZE, IMG_SIZE),\n",
    "    tf.keras.layers.Rescaling(1./255),\n",
    "    tf.keras.layers.RandomRotation(0.125, seed = 42)\n",
    "])\n",
    "\n",
    "    # Create CNN  \n",
    "model = tf.keras.Sequential([\n",
    "        data_augmentation,\n",
    "\n",
    "    keras.applications.Xception(\n",
    "    weights='imagenet',  \n",
    "    input_shape=(150, 150, 3),\n",
    "    include_top=False) ,\n",
    "    \n",
    "    Conv2D(32, 5, activation='relu', padding='same'),\n",
    "    MaxPooling2D(2),\n",
    "\n",
    "    Conv2D(64, 5, activation='relu', padding='same'),\n",
    "    Conv2D(64, 5, activation='relu', padding='same'),\n",
    "    MaxPooling2D(2),\n",
    "    Flatten(),\n",
    "\n",
    "    Dense(256, activation='relu', kernel_initializer='he_normal'),\n",
    "    Dropout(0.25),\n",
    "    keras.layers.Dense(1, activation='sigmoid')\n",
    "])\n",
    "\n",
    "model.compile(loss='binary_crossentropy',\n",
    "                 optimizer=keras.optimizers.Adam(0.0005),\n",
    "                 metrics=[tf.keras.metrics.Recall(), \n",
    "                          tf.keras.metrics.Precision()])"
   ]
  },
  {
   "cell_type": "markdown",
   "metadata": {},
   "source": [
    "### Train model"
   ]
  },
  {
   "cell_type": "code",
   "execution_count": 17,
   "metadata": {
    "scrolled": false
   },
   "outputs": [
    {
     "name": "stdout",
     "output_type": "stream",
     "text": [
      "Epoch 1/100\n",
      "17/17 [==============================] - 98s 5s/step - loss: 0.3195 - recall: 0.9437 - precision: 0.9008 - val_loss: 0.3961 - val_recall: 1.0000 - val_precision: 0.8988\n",
      "Epoch 2/100\n",
      "17/17 [==============================] - 84s 5s/step - loss: 0.1925 - recall: 1.0000 - precision: 0.9006 - val_loss: 0.5324 - val_recall: 1.0000 - val_precision: 0.8988\n",
      "Epoch 3/100\n",
      "17/17 [==============================] - 83s 5s/step - loss: 0.1746 - recall: 1.0000 - precision: 0.9006 - val_loss: 0.6011 - val_recall: 1.0000 - val_precision: 0.8988\n",
      "Epoch 4/100\n",
      "17/17 [==============================] - 82s 5s/step - loss: 0.1583 - recall: 0.9935 - precision: 0.9320 - val_loss: 0.6009 - val_recall: 1.0000 - val_precision: 0.8988\n",
      "Epoch 5/100\n",
      "17/17 [==============================] - 82s 5s/step - loss: 0.1320 - recall: 0.9719 - precision: 0.9740 - val_loss: 0.5350 - val_recall: 1.0000 - val_precision: 0.8988\n",
      "Epoch 6/100\n",
      "17/17 [==============================] - 84s 5s/step - loss: 0.1462 - recall: 0.9838 - precision: 0.9650 - val_loss: 0.6877 - val_recall: 0.6667 - val_precision: 0.8851\n",
      "Epoch 7/100\n",
      "17/17 [==============================] - 84s 5s/step - loss: 0.1051 - recall: 0.9881 - precision: 0.9796 - val_loss: 0.6489 - val_recall: 1.0000 - val_precision: 0.8988\n",
      "Epoch 8/100\n",
      "17/17 [==============================] - 84s 5s/step - loss: 0.1021 - recall: 0.9773 - precision: 0.9880 - val_loss: 0.3557 - val_recall: 1.0000 - val_precision: 0.8988\n",
      "Epoch 9/100\n",
      "17/17 [==============================] - 85s 5s/step - loss: 0.1667 - recall: 0.9448 - precision: 0.9898 - val_loss: 0.9913 - val_recall: 1.0000 - val_precision: 0.8988\n",
      "Epoch 10/100\n",
      "17/17 [==============================] - 85s 5s/step - loss: 0.1499 - recall: 0.9719 - precision: 0.9761 - val_loss: 1.8573 - val_recall: 1.0000 - val_precision: 0.8988\n",
      "Epoch 11/100\n",
      "17/17 [==============================] - 84s 5s/step - loss: 0.1068 - recall: 0.9870 - precision: 0.9651 - val_loss: 0.3820 - val_recall: 1.0000 - val_precision: 0.8988\n",
      "Epoch 12/100\n",
      "17/17 [==============================] - 85s 5s/step - loss: 0.0949 - recall: 0.9794 - precision: 0.9902 - val_loss: 0.6282 - val_recall: 0.8528 - val_precision: 0.8955\n",
      "Epoch 13/100\n",
      "17/17 [==============================] - 84s 5s/step - loss: 0.0935 - recall: 0.9762 - precision: 0.9912 - val_loss: 0.6595 - val_recall: 0.7489 - val_precision: 0.8964\n",
      "Epoch 14/100\n",
      "17/17 [==============================] - 86s 5s/step - loss: 0.2638 - recall: 0.8636 - precision: 0.9744 - val_loss: 1.4305 - val_recall: 1.0000 - val_precision: 0.8988\n",
      "Epoch 15/100\n",
      "17/17 [==============================] - 88s 5s/step - loss: 0.1971 - recall: 0.9719 - precision: 0.9344 - val_loss: 3.2245 - val_recall: 1.0000 - val_precision: 0.8988\n",
      "Epoch 16/100\n",
      "17/17 [==============================] - 87s 5s/step - loss: 0.1446 - recall: 0.9773 - precision: 0.9637 - val_loss: 2.9467 - val_recall: 1.0000 - val_precision: 0.8988\n",
      "Epoch 17/100\n",
      "17/17 [==============================] - 85s 5s/step - loss: 0.1396 - recall: 0.9621 - precision: 0.9780 - val_loss: 1.4710 - val_recall: 1.0000 - val_precision: 0.8988\n",
      "Epoch 18/100\n",
      "17/17 [==============================] - 84s 5s/step - loss: 0.1130 - recall: 0.9794 - precision: 0.9837 - val_loss: 0.3183 - val_recall: 1.0000 - val_precision: 0.8988\n",
      "Epoch 19/100\n",
      "17/17 [==============================] - 83s 5s/step - loss: 0.0911 - recall: 0.9838 - precision: 0.9902 - val_loss: 0.5340 - val_recall: 0.8831 - val_precision: 0.9027\n",
      "Epoch 20/100\n",
      "17/17 [==============================] - 84s 5s/step - loss: 0.0876 - recall: 0.9762 - precision: 0.9912 - val_loss: 0.7720 - val_recall: 0.3030 - val_precision: 0.8861\n",
      "Epoch 21/100\n",
      "17/17 [==============================] - 88s 5s/step - loss: 0.2439 - recall: 0.8972 - precision: 0.9606 - val_loss: 0.5786 - val_recall: 0.9870 - val_precision: 0.8976\n",
      "Epoch 22/100\n",
      "17/17 [==============================] - 86s 5s/step - loss: 0.1839 - recall: 0.9805 - precision: 0.9398 - val_loss: 0.3405 - val_recall: 1.0000 - val_precision: 0.8988\n",
      "Epoch 23/100\n",
      "17/17 [==============================] - 85s 5s/step - loss: 0.1232 - recall: 0.9805 - precision: 0.9649 - val_loss: 0.5904 - val_recall: 1.0000 - val_precision: 0.8988\n",
      "Epoch 24/100\n",
      "17/17 [==============================] - 86s 5s/step - loss: 0.1019 - recall: 0.9762 - precision: 0.9794 - val_loss: 0.5825 - val_recall: 1.0000 - val_precision: 0.8988\n",
      "Epoch 25/100\n",
      "17/17 [==============================] - 85s 5s/step - loss: 0.1010 - recall: 0.9773 - precision: 0.9805 - val_loss: 0.3691 - val_recall: 0.9264 - val_precision: 0.9145\n",
      "Epoch 26/100\n",
      "17/17 [==============================] - 85s 5s/step - loss: 0.0935 - recall: 0.9784 - precision: 0.9869 - val_loss: 0.3722 - val_recall: 0.8182 - val_precision: 0.9545\n",
      "Epoch 27/100\n",
      "17/17 [==============================] - 85s 5s/step - loss: 0.1317 - recall: 0.9600 - precision: 0.9834 - val_loss: 0.2762 - val_recall: 0.9048 - val_precision: 0.9500\n",
      "Epoch 28/100\n",
      "17/17 [==============================] - 85s 5s/step - loss: 0.0931 - recall: 0.9870 - precision: 0.9744 - val_loss: 0.5572 - val_recall: 0.6667 - val_precision: 0.9747\n",
      "Epoch 29/100\n",
      "17/17 [==============================] - 86s 5s/step - loss: 0.0522 - recall: 0.9903 - precision: 0.9946 - val_loss: 0.3383 - val_recall: 0.9091 - val_precision: 0.9677\n",
      "Epoch 30/100\n",
      "17/17 [==============================] - 84s 5s/step - loss: 0.1025 - recall: 0.9762 - precision: 0.9858 - val_loss: 0.3071 - val_recall: 0.8485 - val_precision: 0.9800\n",
      "Epoch 31/100\n",
      "17/17 [==============================] - 85s 5s/step - loss: 0.0621 - recall: 0.9848 - precision: 0.9881 - val_loss: 0.1747 - val_recall: 0.9784 - val_precision: 0.9536\n",
      "Epoch 32/100\n",
      "17/17 [==============================] - 84s 5s/step - loss: 0.0899 - recall: 0.9740 - precision: 0.9923 - val_loss: 0.6394 - val_recall: 0.6061 - val_precision: 1.0000\n",
      "Epoch 33/100\n",
      "17/17 [==============================] - 84s 5s/step - loss: 0.3889 - recall: 0.8582 - precision: 0.9396 - val_loss: 1.9440 - val_recall: 0.6494 - val_precision: 0.9934\n",
      "Epoch 34/100\n",
      "17/17 [==============================] - 89s 5s/step - loss: 0.2121 - recall: 0.9935 - precision: 0.9358 - val_loss: 0.5748 - val_recall: 0.8571 - val_precision: 0.9167\n",
      "Epoch 35/100\n",
      "17/17 [==============================] - 85s 5s/step - loss: 0.1633 - recall: 0.9621 - precision: 0.9716 - val_loss: 0.3652 - val_recall: 0.7835 - val_precision: 0.9526\n",
      "Epoch 36/100\n",
      "17/17 [==============================] - 84s 5s/step - loss: 0.1038 - recall: 0.9794 - precision: 0.9805 - val_loss: 0.8916 - val_recall: 0.6407 - val_precision: 1.0000\n",
      "Epoch 37/100\n",
      "17/17 [==============================] - 86s 5s/step - loss: 0.0798 - recall: 0.9935 - precision: 0.9684 - val_loss: 0.5871 - val_recall: 0.7662 - val_precision: 0.9944\n",
      "Epoch 38/100\n",
      "17/17 [==============================] - 87s 5s/step - loss: 0.0800 - recall: 0.9816 - precision: 0.9902 - val_loss: 0.4880 - val_recall: 0.8095 - val_precision: 0.9947\n",
      "Epoch 39/100\n",
      "17/17 [==============================] - 85s 5s/step - loss: 0.0485 - recall: 0.9935 - precision: 0.9914 - val_loss: 0.9356 - val_recall: 0.6364 - val_precision: 1.0000\n",
      "Epoch 40/100\n",
      "17/17 [==============================] - 86s 5s/step - loss: 0.0411 - recall: 0.9870 - precision: 0.9945 - val_loss: 0.5336 - val_recall: 0.7489 - val_precision: 1.0000\n",
      "Epoch 41/100\n",
      "17/17 [==============================] - 86s 5s/step - loss: 0.0537 - recall: 0.9892 - precision: 0.9913 - val_loss: 0.1275 - val_recall: 0.9524 - val_precision: 0.9910\n",
      "Epoch 42/100\n",
      "17/17 [==============================] - 87s 5s/step - loss: 0.0345 - recall: 0.9870 - precision: 0.9967 - val_loss: 0.1051 - val_recall: 0.9697 - val_precision: 0.9912\n",
      "Epoch 43/100\n",
      "17/17 [==============================] - 88s 5s/step - loss: 0.0186 - recall: 0.9946 - precision: 0.9967 - val_loss: 0.1082 - val_recall: 0.9870 - val_precision: 0.9870\n",
      "Epoch 44/100\n",
      "17/17 [==============================] - 87s 5s/step - loss: 0.0201 - recall: 0.9957 - precision: 0.9967 - val_loss: 0.1068 - val_recall: 0.9870 - val_precision: 0.9913\n",
      "Epoch 45/100\n",
      "17/17 [==============================] - 86s 5s/step - loss: 0.0501 - recall: 0.9935 - precision: 0.9914 - val_loss: 0.1706 - val_recall: 0.9351 - val_precision: 0.9954\n",
      "Epoch 46/100\n"
     ]
    },
    {
     "name": "stdout",
     "output_type": "stream",
     "text": [
      "17/17 [==============================] - 88s 5s/step - loss: 0.0276 - recall: 0.9935 - precision: 0.9978 - val_loss: 0.1138 - val_recall: 0.9827 - val_precision: 0.9913\n",
      "Epoch 47/100\n",
      "17/17 [==============================] - 88s 5s/step - loss: 0.0197 - recall: 0.9978 - precision: 0.9903 - val_loss: 0.1479 - val_recall: 0.9697 - val_precision: 0.9956\n",
      "Epoch 48/100\n",
      "17/17 [==============================] - 87s 5s/step - loss: 0.0368 - recall: 0.9946 - precision: 0.9924 - val_loss: 0.1926 - val_recall: 0.9740 - val_precision: 0.9868\n",
      "Epoch 49/100\n",
      "17/17 [==============================] - 85s 5s/step - loss: 0.0471 - recall: 0.9816 - precision: 0.9967 - val_loss: 0.2560 - val_recall: 1.0000 - val_precision: 0.9665\n",
      "Epoch 50/100\n",
      "17/17 [==============================] - 86s 5s/step - loss: 0.0275 - recall: 0.9989 - precision: 0.9957 - val_loss: 0.3749 - val_recall: 1.0000 - val_precision: 0.9467\n",
      "Epoch 51/100\n",
      "17/17 [==============================] - 86s 5s/step - loss: 0.0099 - recall: 0.9989 - precision: 0.9989 - val_loss: 0.2905 - val_recall: 1.0000 - val_precision: 0.9585\n",
      "Epoch 52/100\n",
      "17/17 [==============================] - 87s 5s/step - loss: 0.0139 - recall: 0.9957 - precision: 0.9967 - val_loss: 0.2390 - val_recall: 1.0000 - val_precision: 0.9665\n",
      "Epoch 53/100\n",
      "17/17 [==============================] - 87s 5s/step - loss: 0.0079 - recall: 0.9989 - precision: 0.9978 - val_loss: 0.2768 - val_recall: 0.9827 - val_precision: 0.9742\n",
      "Epoch 54/100\n",
      "17/17 [==============================] - 86s 5s/step - loss: 0.0446 - recall: 0.9913 - precision: 0.9967 - val_loss: 0.6052 - val_recall: 1.0000 - val_precision: 0.9390\n",
      "Epoch 55/100\n",
      "17/17 [==============================] - 86s 5s/step - loss: 0.0401 - recall: 0.9968 - precision: 0.9840 - val_loss: 0.7778 - val_recall: 1.0000 - val_precision: 0.9240\n",
      "Epoch 56/100\n",
      "17/17 [==============================] - 86s 5s/step - loss: 0.0190 - recall: 0.9957 - precision: 0.9978 - val_loss: 0.4226 - val_recall: 1.0000 - val_precision: 0.9545\n",
      "Epoch 57/100\n",
      "17/17 [==============================] - 86s 5s/step - loss: 0.0226 - recall: 0.9957 - precision: 0.9946 - val_loss: 0.3116 - val_recall: 0.9957 - val_precision: 0.9623\n",
      "Epoch 58/100\n",
      "17/17 [==============================] - 85s 5s/step - loss: 0.0374 - recall: 0.9935 - precision: 0.9967 - val_loss: 0.3266 - val_recall: 1.0000 - val_precision: 0.9665\n",
      "Epoch 59/100\n",
      "17/17 [==============================] - 85s 5s/step - loss: 0.0304 - recall: 1.0000 - precision: 0.9946 - val_loss: 0.1468 - val_recall: 0.9913 - val_precision: 0.9828\n",
      "Epoch 60/100\n",
      "17/17 [==============================] - 86s 5s/step - loss: 0.0165 - recall: 0.9957 - precision: 0.9989 - val_loss: 0.1120 - val_recall: 0.9913 - val_precision: 0.9745\n",
      "Epoch 61/100\n",
      "17/17 [==============================] - 85s 5s/step - loss: 0.0171 - recall: 0.9989 - precision: 0.9925 - val_loss: 0.1127 - val_recall: 1.0000 - val_precision: 0.9706\n",
      "Epoch 62/100\n",
      "17/17 [==============================] - 85s 5s/step - loss: 0.0418 - recall: 0.9957 - precision: 0.9935 - val_loss: 0.1267 - val_recall: 1.0000 - val_precision: 0.9788\n"
     ]
    }
   ],
   "source": [
    "# train model\n",
    "history = model.fit(X_train_rs, t_train, epochs=100, batch_size=64,\n",
    "             validation_data=(X_val_rs, t_val),\n",
    "             callbacks=[keras.callbacks.EarlyStopping(patience=20),\n",
    "                           keras.callbacks.ModelCheckpoint('final_model.h5', \n",
    "                                                           save_best_only=True)])\n"
   ]
  },
  {
   "cell_type": "code",
   "execution_count": null,
   "metadata": {},
   "outputs": [],
   "source": []
  },
  {
   "cell_type": "markdown",
   "metadata": {},
   "source": [
    "### Load model, obtain conf matrix, determine wald int of false positives"
   ]
  },
  {
   "cell_type": "code",
   "execution_count": 13,
   "metadata": {},
   "outputs": [],
   "source": [
    "# model = tf.keras.models.load_model('final_Xception_model.h5')"
   ]
  },
  {
   "cell_type": "code",
   "execution_count": 18,
   "metadata": {},
   "outputs": [
    {
     "name": "stdout",
     "output_type": "stream",
     "text": [
      "33/33 [==============================] - 17s 479ms/step\n"
     ]
    }
   ],
   "source": [
    "y_train_pred = model.predict(X_train_rs)"
   ]
  },
  {
   "cell_type": "code",
   "execution_count": 19,
   "metadata": {},
   "outputs": [
    {
     "name": "stdout",
     "output_type": "stream",
     "text": [
      "9/9 [==============================] - 4s 438ms/step\n"
     ]
    }
   ],
   "source": [
    "y_val_pred = model.predict(X_val_rs)"
   ]
  },
  {
   "cell_type": "markdown",
   "metadata": {},
   "source": [
    "Distracted driver == 0, meaning they are considered a negative. Not distracted == 1, meaning they are considered posiitve. We do not want to to falsely label a negative as a positive; hence, we want to minimize false positives. "
   ]
  },
  {
   "cell_type": "code",
   "execution_count": 26,
   "metadata": {},
   "outputs": [],
   "source": [
    "# def f1_and_BPCI(X, y, model):\n",
    "def f1_and_BPCI(y, y_pred):\n",
    "    \n",
    "#     # resize input X\n",
    "#     data_resized = np.empty((len(y),(67500)))\n",
    "\n",
    "#     for img_idx in range(len(y)):\n",
    "#         im = X[img_idx].reshape(300,300,3) \n",
    "#         data_resized[img_idx] = resize(im, (150,150, 3)).flatten() \n",
    "\n",
    "#     # cast numpy arrays into tensorflow tensors\n",
    "#     X_rs = tf.constant(data_resized.reshape((data_resized.shape[0],150,150,3)),\n",
    "#                             dtype=tf.float32)\n",
    "    \n",
    "#     # test on resized X\n",
    "#     y_pred = np.round(model.predict(X_rs))\n",
    "    tn, fp, fn, tp = confusion_matrix(y, y_pred).ravel()\n",
    "    count = (fp)\n",
    "    nobs = sum((fp, tp))\n",
    "    lb, ub = proportion_confint(count, nobs, alpha = 0.05, method = 'beta')\n",
    "    f1 = f1_score(y, y_pred)\n",
    "    \n",
    "    print('F1-score: ', \"{:.2f}\".format(f1), '\\nWe are 95% confident that the true proportion of false positive predictions falls between ', \n",
    "          \"{:.2f}\".format(lb*100),'%', ' and ', \"{:.2f}\".format(ub*100),'%')\n",
    "    return"
   ]
  },
  {
   "cell_type": "code",
   "execution_count": 24,
   "metadata": {},
   "outputs": [
    {
     "name": "stdout",
     "output_type": "stream",
     "text": [
      "TRAINING RESULTS\n",
      "F1-score:  1.00 \n",
      "We are 95% confident that the true proportion of false positive predictions falls between  0.0 %  and  0.4 %\n"
     ]
    }
   ],
   "source": [
    "# testing\n",
    "print('TRAINING RESULTS')\n",
    "f1_and_BPCI(np.round(y_train_pred), t_train)"
   ]
  },
  {
   "cell_type": "code",
   "execution_count": 27,
   "metadata": {},
   "outputs": [
    {
     "name": "stdout",
     "output_type": "stream",
     "text": [
      "VALIDATION RESULTS\n",
      "F1-score:  0.99 \n",
      "We are 95% confident that the true proportion of false positive predictions falls between  0.00 %  and  1.58 %\n"
     ]
    }
   ],
   "source": [
    "# training\n",
    "print('VALIDATION RESULTS')\n",
    "f1_and_BPCI(np.round(y_val_pred), t_val)"
   ]
  },
  {
   "cell_type": "code",
   "execution_count": null,
   "metadata": {},
   "outputs": [],
   "source": []
  },
  {
   "cell_type": "markdown",
   "metadata": {},
   "source": [
    "### Learning curves"
   ]
  },
  {
   "cell_type": "code",
   "execution_count": 30,
   "metadata": {},
   "outputs": [],
   "source": [
    "import matplotlib.pyplot as plt"
   ]
  },
  {
   "cell_type": "code",
   "execution_count": 33,
   "metadata": {},
   "outputs": [
    {
     "data": {
      "text/plain": [
       "dict_keys(['loss', 'recall', 'precision', 'val_loss', 'val_recall', 'val_precision'])"
      ]
     },
     "execution_count": 33,
     "metadata": {},
     "output_type": "execute_result"
    }
   ],
   "source": [
    "history.history.keys()"
   ]
  },
  {
   "cell_type": "code",
   "execution_count": 43,
   "metadata": {},
   "outputs": [
    {
     "data": {
      "image/png": "[encoded data removed]",
      "text/plain": [
       "<Figure size 720x576 with 1 Axes>"
      ]
     },
     "metadata": {
      "needs_background": "light"
     },
     "output_type": "display_data"
    }
   ],
   "source": [
    "key_names = list(('precision',  'val_precision'))\n",
    "# key_names = list(('loss', 'val_loss'))\n",
    "colors = ['-og','-.k', 'r', 'b', '--m', '-oy'] \n",
    "font = {'size'   : 12}\n",
    "\n",
    "plt.figure(figsize=(10,8))\n",
    "for i in range(len(key_names)):\n",
    "    plt.plot(history.history[key_names[i]], colors[i], label=key_names[i])\n",
    "\n",
    "# plt.plot(normalized_loss, colors[2], label='Normalized loss')\n",
    "# plt.plot(normalized_val_loss, colors[3], label='Normalized validation loss')\n",
    "plt.legend(fontsize=15,ncol=2)\n",
    "plt.ylabel('Accuracy Score', **font)\n",
    "plt.xlabel('Epochs', **font)\n",
    "plt.title('Learning Curves, Framework 2', size=15);"
   ]
  },
  {
   "cell_type": "code",
   "execution_count": null,
   "metadata": {},
   "outputs": [],
   "source": []
  },
  {
   "cell_type": "markdown",
   "metadata": {},
   "source": [
    "### BPCI Robustness"
   ]
  },
  {
   "cell_type": "code",
   "execution_count": 85,
   "metadata": {},
   "outputs": [],
   "source": [
    "def f1_and_BPCI(X, y, model):\n",
    "    \n",
    "    # cast numpy arrays into tensorflow tensors\n",
    "    X_rs = tf.constant(X.reshape((X.shape[0],150,150,3)),\n",
    "                            dtype=tf.float32)\n",
    "#     X_rs = X\n",
    "    # test on resized X\n",
    "    y_pred = np.round(model.predict(X_rs))\n",
    "    tn, fp, fn, tp = confusion_matrix(y, y_pred).ravel()\n",
    "    count = (fp)\n",
    "    nobs = sum((fp, tp))\n",
    "    lb, ub = proportion_confint(count, nobs, alpha = 0.05, method = 'beta')\n",
    "    f1 = f1_score(y, y_pred)\n",
    "    \n",
    "    print('F1-score: ', \"{:.2f}\".format(f1), '\\nWe are 95% confident that the true proportion of false positive predictions falls between ', \n",
    "          \"{:.2f}\".format(lb*100),'%', ' and ', \"{:.2f}\".format(ub*100),'%')\n",
    "    return"
   ]
  },
  {
   "cell_type": "code",
   "execution_count": 86,
   "metadata": {},
   "outputs": [
    {
     "name": "stdout",
     "output_type": "stream",
     "text": [
      "8/8 [==============================] - 4s 454ms/step\n",
      "F1-score:  0.98 \n",
      "We are 95% confident that the true proportion of false positive predictions falls between  1.34 %  and  6.72 %\n"
     ]
    }
   ],
   "source": [
    "f1_and_BPCI(X_test_rs, y_test, model)"
   ]
  },
  {
   "cell_type": "code",
   "execution_count": null,
   "metadata": {},
   "outputs": [],
   "source": []
  },
  {
   "cell_type": "code",
   "execution_count": null,
   "metadata": {},
   "outputs": [],
   "source": []
  },
  {
   "cell_type": "code",
   "execution_count": null,
   "metadata": {},
   "outputs": [],
   "source": []
  },
  {
   "cell_type": "code",
   "execution_count": null,
   "metadata": {},
   "outputs": [],
   "source": []
  },
  {
   "cell_type": "code",
   "execution_count": null,
   "metadata": {},
   "outputs": [],
   "source": []
  },
  {
   "cell_type": "code",
   "execution_count": null,
   "metadata": {},
   "outputs": [],
   "source": []
  },
  {
   "cell_type": "code",
   "execution_count": null,
   "metadata": {},
   "outputs": [],
   "source": []
  },
  {
   "cell_type": "code",
   "execution_count": null,
   "metadata": {},
   "outputs": [],
   "source": []
  }
 ],
 "metadata": {
  "kernelspec": {
   "display_name": "Python 3",
   "language": "python",
   "name": "python3"
  },
  "language_info": {
   "codemirror_mode": {
    "name": "ipython",
    "version": 3
   },
   "file_extension": ".py",
   "mimetype": "text/x-python",
   "name": "python",
   "nbconvert_exporter": "python",
   "pygments_lexer": "ipython3",
   "version": "3.8.5"
  }
 },
 "nbformat": 4,
 "nbformat_minor": 4
}
